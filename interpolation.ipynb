{
 "cells": [
  {
   "cell_type": "code",
   "execution_count": 15,
   "metadata": {},
   "outputs": [
    {
     "name": "stdout",
     "output_type": "stream",
     "text": [
      "tensor([[1., 2.],\n",
      "        [3., 4.]])\n"
     ]
    }
   ],
   "source": [
    "import torch\n",
    "import torch.nn.functional as F\n",
    "import time\n",
    "\n",
    "# Create a 2x2 tensor (image)\n",
    "image = torch.tensor([[1., 2.],\n",
    "                      [3., 4.]])\n",
    "\n",
    "print(image)"
   ]
  },
  {
   "cell_type": "code",
   "execution_count": 5,
   "metadata": {},
   "outputs": [
    {
     "name": "stdout",
     "output_type": "stream",
     "text": [
      "Execution time: 0.0376 seconds\n",
      "tensor([[[[1., 1., 2., 2.],\n",
      "          [1., 1., 2., 2.],\n",
      "          [3., 3., 4., 4.],\n",
      "          [3., 3., 4., 4.]]]])\n"
     ]
    }
   ],
   "source": [
    "# nearest neighbor interpolation\n",
    "start = time.time()\n",
    "for i in range(5000):\n",
    "    output = F.interpolate(image[None, None, :, :], scale_factor=2, mode='nearest')\n",
    "end = time.time()\n",
    "print(f\"Execution time: {end - start:.4f} seconds\")\n",
    "print(output)"
   ]
  },
  {
   "cell_type": "code",
   "execution_count": 16,
   "metadata": {},
   "outputs": [
    {
     "name": "stdout",
     "output_type": "stream",
     "text": [
      "tensor([[[[1.0000, 1.2500, 1.7500, 2.0000],\n",
      "          [1.5000, 1.7500, 2.2500, 2.5000],\n",
      "          [2.5000, 2.7500, 3.2500, 3.5000],\n",
      "          [3.0000, 3.2500, 3.7500, 4.0000]]]])\n"
     ]
    }
   ],
   "source": [
    "# nearest neighbor interpolation\n",
    "output = F.interpolate(image[None, None, :, :], scale_factor=2, mode='bilinear', antialias=True)\n",
    "print(output)"
   ]
  },
  {
   "cell_type": "code",
   "execution_count": 17,
   "metadata": {},
   "outputs": [
    {
     "name": "stdout",
     "output_type": "stream",
     "text": [
      "tensor([[[[1.0000, 1.2500, 1.7500, 2.0000],\n",
      "          [1.5000, 1.7500, 2.2500, 2.5000],\n",
      "          [2.5000, 2.7500, 3.2500, 3.5000],\n",
      "          [3.0000, 3.2500, 3.7500, 4.0000]]]])\n"
     ]
    }
   ],
   "source": [
    "# bilinear interpolation\n",
    "output = F.interpolate(image[None, None, :, :], scale_factor=2, mode='bilinear')\n",
    "print(output)"
   ]
  },
  {
   "cell_type": "code",
   "execution_count": 10,
   "metadata": {},
   "outputs": [
    {
     "name": "stdout",
     "output_type": "stream",
     "text": [
      "tensor([[[[1.0000, 1.2500, 1.7500, 2.0000],\n",
      "          [1.5000, 1.7500, 2.2500, 2.5000],\n",
      "          [2.5000, 2.7500, 3.2500, 3.5000],\n",
      "          [3.0000, 3.2500, 3.7500, 4.0000]]]])\n"
     ]
    }
   ],
   "source": [
    "# bilinear interpolation\n",
    "output = F.interpolate(image[None, None, :, :], scale_factor=2, mode='bilinear', align_corners=False)\n",
    "print(output)"
   ]
  },
  {
   "cell_type": "code",
   "execution_count": 13,
   "metadata": {},
   "outputs": [
    {
     "name": "stdout",
     "output_type": "stream",
     "text": [
      "tensor([[[[0.6836, 1.0156, 1.5625, 1.8945],\n",
      "          [1.3477, 1.6797, 2.2266, 2.5586],\n",
      "          [2.4414, 2.7734, 3.3203, 3.6523],\n",
      "          [3.1055, 3.4375, 3.9844, 4.3164]]]])\n"
     ]
    }
   ],
   "source": [
    "# bilinear interpolation\n",
    "output = F.interpolate(image[None, None, :, :], scale_factor=2, mode='bicubic', align_corners=False)\n",
    "print(output)"
   ]
  },
  {
   "cell_type": "code",
   "execution_count": 14,
   "metadata": {},
   "outputs": [
    {
     "name": "stdout",
     "output_type": "stream",
     "text": [
      "tensor([[[[0.7353, 1.0307, 1.6164, 1.9118],\n",
      "          [1.3261, 1.6214, 2.2071, 2.5025],\n",
      "          [2.4975, 2.7929, 3.3786, 3.6739],\n",
      "          [3.0882, 3.3836, 3.9693, 4.2647]]]])\n"
     ]
    }
   ],
   "source": [
    "# bilinear interpolation\n",
    "output = F.interpolate(image[None, None, :, :], scale_factor=2, mode='bicubic', antialias=True)\n",
    "print(output)"
   ]
  },
  {
   "cell_type": "code",
   "execution_count": 1,
   "metadata": {},
   "outputs": [],
   "source": [
    "def get_gaussian_kernel(kernel_size=5, sigma=1.0, channels=3):\n",
    "    # 1D Gaussian\n",
    "    x = torch.arange(kernel_size).float() - kernel_size // 2\n",
    "    gauss = torch.exp(-x**2 / (2 * sigma**2))\n",
    "    gauss = gauss / gauss.sum()\n",
    "    \n",
    "    # 2D Gaussian Kernel\n",
    "    kernel2d = gauss[:, None] @ gauss[None, :]\n",
    "    kernel2d = kernel2d.expand(channels, 1, kernel_size, kernel_size)\n",
    "    return kernel2d"
   ]
  },
  {
   "cell_type": "code",
   "execution_count": null,
   "metadata": {},
   "outputs": [],
   "source": [
    "channels = x.shape[1]\n",
    "kernel = get_gaussian_kernel(3, 1.0, channels).to(x.device)\n",
    "padding = kernel_size // 2\n",
    "x_blur = F.conv2d(x, kernel, padding=padding, groups=channels)"
   ]
  }
 ],
 "metadata": {
  "kernelspec": {
   "display_name": "base",
   "language": "python",
   "name": "python3"
  },
  "language_info": {
   "codemirror_mode": {
    "name": "ipython",
    "version": 3
   },
   "file_extension": ".py",
   "mimetype": "text/x-python",
   "name": "python",
   "nbconvert_exporter": "python",
   "pygments_lexer": "ipython3",
   "version": "3.11.9"
  }
 },
 "nbformat": 4,
 "nbformat_minor": 2
}
